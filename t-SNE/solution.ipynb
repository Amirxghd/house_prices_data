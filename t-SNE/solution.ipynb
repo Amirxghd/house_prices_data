{
 "cells": [
  {
   "cell_type": "code",
   "execution_count": 1,
   "metadata": {},
   "outputs": [],
   "source": [
    "#in His Name\""
   ]
  },
  {
   "cell_type": "markdown",
   "metadata": {},
   "source": [
    "نصب و فراخوانی ماژول‌های \n",
    "- `numpy` برای انجام عملیات آرایه‌ای\n",
    "- `matplotlib` برای تصویر سازی داده\n",
    "- `sklearn` برای استفاده از توابع موردنیاز برای تبدیل\n",
    "- `mpld3` برای تصویرسازی تعاملی داده"
   ]
  },
  {
   "cell_type": "code",
   "execution_count": null,
   "metadata": {},
   "outputs": [],
   "source": [
    "!pip install numpy\n",
    "!pip install matplotlib==2.0.2\n",
    "!pip install sklearn\n",
    "!pip install mpld3"
   ]
  },
  {
   "cell_type": "code",
   "execution_count": null,
   "metadata": {},
   "outputs": [],
   "source": [
    "from sklearn.manifold import TSNE\n",
    "import matplotlib.pyplot as plt\n",
    "import numpy as np\n",
    "import matplotlib.colors\n",
    "from sklearn import datasets\n",
    "\n",
    "import mpld3\n",
    "from mpld3 import plugins"
   ]
  },
  {
   "cell_type": "markdown",
   "metadata": {},
   "source": [
    "دسترسی به مجموعه داده اعداد دست نویس"
   ]
  },
  {
   "cell_type": "code",
   "execution_count": null,
   "metadata": {},
   "outputs": [],
   "source": [
    "digits = datasets.load_digits()"
   ]
  },
  {
   "cell_type": "code",
   "execution_count": null,
   "metadata": {},
   "outputs": [],
   "source": [
    "x = digits.data\n",
    "y = digits.target"
   ]
  },
  {
   "cell_type": "markdown",
   "metadata": {},
   "source": [
    "اعمال تبدیل  \n",
    "TSNE نکته مهم درباره تابع \n",
    "- `init='pca'`\n",
    "- `random_state=0`\n",
    "\n",
    "`این دو ورودی از تابع را با مقادیر مشخص شده، مقداردهی نمایید`"
   ]
  },
  {
   "cell_type": "code",
   "execution_count": null,
   "metadata": {},
   "outputs": [],
   "source": [
    "def tsne(x):\n",
    "    x_tsne = TSNE(n_components=2, init='pca', random_state=0).fit_transform(x)\n",
    "    return x_tsne"
   ]
  },
  {
   "cell_type": "code",
   "execution_count": null,
   "metadata": {},
   "outputs": [],
   "source": [
    "x_tsne = tsne(x)"
   ]
  },
  {
   "cell_type": "markdown",
   "metadata": {},
   "source": [
    "رسم نمودار داده بعد از اعمال تبدیل"
   ]
  },
  {
   "cell_type": "code",
   "execution_count": null,
   "metadata": {},
   "outputs": [],
   "source": [
    "colors = list(matplotlib.colors.TABLEAU_COLORS)\n",
    "\n",
    "label_colors = []\n",
    "for idx in y:\n",
    "    label_colors.append(colors[idx])\n",
    "    \n",
    "plt.scatter(x_tsne[:,0], x_tsne[:,1], c=label_colors)"
   ]
  },
  {
   "cell_type": "markdown",
   "metadata": {},
   "source": [
    "رسم نمودار تعاملی داده بعد از اعمال تبدیل"
   ]
  },
  {
   "cell_type": "code",
   "execution_count": null,
   "metadata": {},
   "outputs": [],
   "source": [
    "x_for_plot = []\n",
    "for i in range(10):\n",
    "    x_for_plot.append(x_tsne[y==i])"
   ]
  },
  {
   "cell_type": "code",
   "execution_count": null,
   "metadata": {},
   "outputs": [],
   "source": [
    "fig, ax = plt.subplots()\n",
    "ax.grid(True, alpha=0.3)\n",
    "\n",
    "\n",
    "for i in range(10):\n",
    "    ax.scatter(x_for_plot[i][:,0], x_for_plot[i][:,1], c=label_colors[i], label=i)\n",
    "    \n",
    "#define interactive legend\n",
    "\n",
    "handles, labels = ax.get_legend_handles_labels() # return lines and labels\n",
    "interactive_legend = plugins.InteractiveLegendPlugin(zip(handles,\n",
    "                                                         ax.collections),\n",
    "                                                     labels,\n",
    "                                                     alpha_unsel=0.5,\n",
    "                                                     alpha_over=1.5, \n",
    "                                                     start_visible=True)\n",
    "\n",
    "plugins.connect(fig, interactive_legend)\n",
    "\n",
    "\n",
    "mpld3.enable_notebook()\n",
    "mpld3.display()"
   ]
  },
  {
   "cell_type": "code",
   "execution_count": null,
   "metadata": {},
   "outputs": [],
   "source": []
  },
  {
   "cell_type": "code",
   "execution_count": null,
   "metadata": {},
   "outputs": [],
   "source": []
  },
  {
   "cell_type": "code",
   "execution_count": null,
   "metadata": {},
   "outputs": [],
   "source": []
  },
  {
   "cell_type": "code",
   "execution_count": null,
   "metadata": {},
   "outputs": [],
   "source": []
  }
 ],
 "metadata": {
  "kernelspec": {
   "display_name": "Python 3",
   "language": "python",
   "name": "python3"
  },
  "language_info": {
   "codemirror_mode": {
    "name": "ipython",
    "version": 3
   },
   "file_extension": ".py",
   "mimetype": "text/x-python",
   "name": "python",
   "nbconvert_exporter": "python",
   "pygments_lexer": "ipython3",
   "version": "3.8.1"
  }
 },
 "nbformat": 4,
 "nbformat_minor": 4
}
